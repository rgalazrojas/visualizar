{
 "cells": [
  {
   "cell_type": "markdown",
   "id": "6e028a13",
   "metadata": {},
   "source": [
    "# Data Science Tools and Ecosystem"
   ]
  },
  {
   "cell_type": "markdown",
   "id": "99208cbf",
   "metadata": {},
   "source": [
    "En este cuaderno podran obeservar los avances y contribuciones respecto al curso de herramientas para la ciencia de datos"
   ]
  },
  {
   "cell_type": "markdown",
   "id": "6a35dcb5",
   "metadata": {},
   "source": [
    "**Objetivos**\n",
    "- Algunos lenguajes mas utilizados para la ciencia de datos\n",
    "- Algunas de las bibliotecas mas utilizadas por lo cientificos de datos\n",
    "- Herramientas de cienca de datos\n",
    "- Evaluacion de expresiones aritmeticas en python"
   ]
  },
  {
   "cell_type": "markdown",
   "id": "791717d1",
   "metadata": {},
   "source": [
    "Algunos de los lenguajes mas utilizados para la ciencia de datos son:\n",
    "\n",
    "1- Python\n",
    "2- Scala\n",
    "3- R\n",
    "4- Julia\n",
    "5- SQL"
   ]
  },
  {
   "cell_type": "markdown",
   "id": "678d8ae7",
   "metadata": {},
   "source": [
    "Algunas de las bibliotecas mas utilizadas por los cientificos de datos son las siguientes:\n",
    "\n",
    "1- Numpy\n",
    "2- Pandas\n",
    "3- Matplotlib\n",
    "4- Tensorflow\n",
    "5- Seabonr"
   ]
  },
  {
   "cell_type": "markdown",
   "id": "e02c2e73",
   "metadata": {},
   "source": [
    "|Herramienta de ciencia de datos|\n",
    "|-------------------------------|\n",
    "|Jupyter Notebook               |\n",
    "|Rstudio                        |\n",
    "|VScode                         |"
   ]
  },
  {
   "cell_type": "markdown",
   "id": "44c17575",
   "metadata": {},
   "source": [
    "### Se representaran algunas expresiones aritmeticas en python"
   ]
  },
  {
   "cell_type": "markdown",
   "id": "b251defe",
   "metadata": {},
   "source": [
    "Esta es una expresión aritmética simple para multiplicar y luego sumar enteros."
   ]
  },
  {
   "cell_type": "code",
   "execution_count": 3,
   "id": "49bd983b",
   "metadata": {},
   "outputs": [
    {
     "data": {
      "text/plain": [
       "17"
      ]
     },
     "execution_count": 3,
     "metadata": {},
     "output_type": "execute_result"
    }
   ],
   "source": [
    "(3*4)+5"
   ]
  },
  {
   "cell_type": "markdown",
   "id": "2c27b7a5",
   "metadata": {},
   "source": [
    "Esto convertirá 200 minutos a horas dividiendo por 60"
   ]
  },
  {
   "cell_type": "code",
   "execution_count": 4,
   "id": "6af35238",
   "metadata": {},
   "outputs": [
    {
     "data": {
      "text/plain": [
       "3.3333333333333335"
      ]
     },
     "execution_count": 4,
     "metadata": {},
     "output_type": "execute_result"
    }
   ],
   "source": [
    "(200/60)"
   ]
  },
  {
   "cell_type": "markdown",
   "id": "7f4a9586",
   "metadata": {},
   "source": [
    "3 horas aprox."
   ]
  },
  {
   "cell_type": "markdown",
   "id": "41d78634",
   "metadata": {},
   "source": [
    "## Autor\n",
    "Roberto Galaz R."
   ]
  }
 ],
 "metadata": {
  "kernelspec": {
   "display_name": "Python 3 (ipykernel)",
   "language": "python",
   "name": "python3"
  },
  "language_info": {
   "codemirror_mode": {
    "name": "ipython",
    "version": 3
   },
   "file_extension": ".py",
   "mimetype": "text/x-python",
   "name": "python",
   "nbconvert_exporter": "python",
   "pygments_lexer": "ipython3",
   "version": "3.11.9"
  }
 },
 "nbformat": 4,
 "nbformat_minor": 5
}
